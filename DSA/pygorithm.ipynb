{
 "cells": [
  {
   "cell_type": "code",
   "execution_count": null,
   "id": "9a15f0df",
   "metadata": {},
   "outputs": [],
   "source": [
    "from pygorithm import data_structures\n",
    "help(data_structures)"
   ]
  },
  {
   "cell_type": "code",
   "execution_count": null,
   "id": "e36528bb",
   "metadata": {},
   "outputs": [],
   "source": []
  },
  {
   "cell_type": "code",
   "execution_count": null,
   "id": "fa2fc9a5",
   "metadata": {},
   "outputs": [],
   "source": []
  }
 ],
 "metadata": {
  "kernelspec": {
   "display_name": "Python 3 (ipykernel)",
   "language": "python",
   "name": "python3"
  }
 },
 "nbformat": 4,
 "nbformat_minor": 5
}
